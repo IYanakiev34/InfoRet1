{
 "cells": [
  {
   "cell_type": "markdown",
   "metadata": {},
   "source": [
    "### As before, we import the libraries and code bases we need\n",
    "\n",
    "### This time, inverted_index and utils is mine... Note source files used in this context have to live within the context of where the jupyter notebook is being run..."
   ]
  },
  {
   "cell_type": "code",
   "execution_count": 1,
   "metadata": {},
   "outputs": [
    {
     "name": "stderr",
     "output_type": "stream",
     "text": [
      "[nltk_data] Downloading package stopwords to\n",
      "[nltk_data]     /home/ivanyanakiev1/nltk_data...\n",
      "[nltk_data]   Package stopwords is already up-to-date!\n"
     ]
    }
   ],
   "source": [
    "from inverted_index import InvertedIndex\n",
    "import nltk\n",
    "from utils import read_data\n",
    "nltk.download('stopwords')\n",
    "inv_ind = InvertedIndex()"
   ]
  },
  {
   "cell_type": "markdown",
   "metadata": {},
   "source": [
    "### Add documents below, read_data scans directory passed for any \n",
    "### files ending in \".txt\" and reads them in as a single string."
   ]
  },
  {
   "cell_type": "code",
   "execution_count": null,
   "metadata": {},
   "outputs": [],
   "source": [
    "documents = read_data(\"./data\")\n",
    "print(documents)"
   ]
  },
  {
   "cell_type": "markdown",
   "metadata": {},
   "source": [
    "### Print out number of documents and document titles"
   ]
  },
  {
   "cell_type": "code",
   "execution_count": null,
   "metadata": {},
   "outputs": [],
   "source": [
    "print(len(documents))\n",
    "for d in documents:\n",
    "    print(d[0])"
   ]
  },
  {
   "cell_type": "markdown",
   "metadata": {},
   "source": [
    "### Next, we will add all these documents to our Inverted Index..."
   ]
  },
  {
   "cell_type": "code",
   "execution_count": 4,
   "metadata": {},
   "outputs": [
    {
     "name": "stdout",
     "output_type": "stream",
     "text": [
      "barrack_hussein_obama\n",
      "obama\n",
      "president_of_the_united_states\n",
      "modi_visit_us\n",
      "united_states_of_america\n",
      "narendra_damodardas_modi\n",
      "united_states_presidential_election_2016\n",
      "foreign_investment_to_gujrat\n",
      "hillary_diane_rodham_clinton\n"
     ]
    }
   ],
   "source": [
    "for d in documents:\n",
    "    print(d[0])\n",
    "    inv_ind.add_document(d)"
   ]
  },
  {
   "cell_type": "markdown",
   "metadata": {},
   "source": [
    "### Print out some descriptives, total terms indexed and documents..."
   ]
  },
  {
   "cell_type": "code",
   "execution_count": null,
   "metadata": {},
   "outputs": [],
   "source": [
    "print(inv_ind.get_total_terms())\n",
    "print(inv_ind.get_total_docs())\n",
    "print(inv_ind.terms)"
   ]
  },
  {
   "cell_type": "markdown",
   "metadata": {},
   "source": [
    "### Print out the inverted index itself...."
   ]
  },
  {
   "cell_type": "code",
   "execution_count": null,
   "metadata": {},
   "outputs": [],
   "source": [
    "inv_ind.print()"
   ]
  },
  {
   "cell_type": "markdown",
   "metadata": {},
   "source": [
    "### Just for interest's sake, you can see nltk's built in stop word list"
   ]
  },
  {
   "cell_type": "code",
   "execution_count": 7,
   "metadata": {},
   "outputs": [
    {
     "name": "stdout",
     "output_type": "stream",
     "text": [
      "['i', 'me', 'my', 'myself', 'we', 'our', 'ours', 'ourselves', 'you', \"you're\", \"you've\", \"you'll\", \"you'd\", 'your', 'yours', 'yourself', 'yourselves', 'he', 'him', 'his', 'himself', 'she', \"she's\", 'her', 'hers', 'herself', 'it', \"it's\", 'its', 'itself', 'they', 'them', 'their', 'theirs', 'themselves', 'what', 'which', 'who', 'whom', 'this', 'that', \"that'll\", 'these', 'those', 'am', 'is', 'are', 'was', 'were', 'be', 'been', 'being', 'have', 'has', 'had', 'having', 'do', 'does', 'did', 'doing', 'a', 'an', 'the', 'and', 'but', 'if', 'or', 'because', 'as', 'until', 'while', 'of', 'at', 'by', 'for', 'with', 'about', 'against', 'between', 'into', 'through', 'during', 'before', 'after', 'above', 'below', 'to', 'from', 'up', 'down', 'in', 'out', 'on', 'off', 'over', 'under', 'again', 'further', 'then', 'once', 'here', 'there', 'when', 'where', 'why', 'how', 'all', 'any', 'both', 'each', 'few', 'more', 'most', 'other', 'some', 'such', 'no', 'nor', 'not', 'only', 'own', 'same', 'so', 'than', 'too', 'very', 's', 't', 'can', 'will', 'just', 'don', \"don't\", 'should', \"should've\", 'now', 'd', 'll', 'm', 'o', 're', 've', 'y', 'ain', 'aren', \"aren't\", 'couldn', \"couldn't\", 'didn', \"didn't\", 'doesn', \"doesn't\", 'hadn', \"hadn't\", 'hasn', \"hasn't\", 'haven', \"haven't\", 'isn', \"isn't\", 'ma', 'mightn', \"mightn't\", 'mustn', \"mustn't\", 'needn', \"needn't\", 'shan', \"shan't\", 'shouldn', \"shouldn't\", 'wasn', \"wasn't\", 'weren', \"weren't\", 'won', \"won't\", 'wouldn', \"wouldn't\"]\n"
     ]
    }
   ],
   "source": [
    "import nltk\n",
    "print(nltk.corpus.stopwords.words('english'))"
   ]
  },
  {
   "cell_type": "markdown",
   "metadata": {},
   "source": [
    "### From this we can geneate a term by document matrix "
   ]
  },
  {
   "cell_type": "code",
   "execution_count": null,
   "metadata": {},
   "outputs": [],
   "source": [
    "print(inv_ind.generate_term_by_doc_matrix())"
   ]
  },
  {
   "cell_type": "markdown",
   "metadata": {},
   "source": [
    "#### We can compute the TFIDF values for everything in the Inverted Index\n",
    "#### Display new values"
   ]
  },
  {
   "cell_type": "code",
   "execution_count": null,
   "metadata": {},
   "outputs": [],
   "source": [
    "inv_ind.calcTFIDF()\n",
    "print(inv_ind.generate_term_by_doc_matrix(tfidf = True))"
   ]
  },
  {
   "cell_type": "markdown",
   "metadata": {},
   "source": [
    "### Let's do a search...."
   ]
  },
  {
   "cell_type": "code",
   "execution_count": 10,
   "metadata": {},
   "outputs": [
    {
     "name": "stdout",
     "output_type": "stream",
     "text": [
      "('united_states_of_america', 0.22981691131823873)\n",
      "('president_of_the_united_states', 0.1360635635542465)\n",
      "('modi_visit_us', 0.033694037950494415)\n",
      "('obama', 0.0055882695953022865)\n",
      "('barrack_hussein_obama', 0.0)\n",
      "('foreign_investment_to_gujrat', 0.0)\n",
      "('hillary_diane_rodham_clinton', 0.0)\n",
      "('narendra_damodardas_modi', 0.0)\n",
      "('united_states_presidential_election_2016', 0.0)\n"
     ]
    }
   ],
   "source": [
    "results = inv_ind.search(\"largest world economy\", tfidf = True)\n",
    "for r in results:\n",
    "    print (r)\n"
   ]
  },
  {
   "cell_type": "markdown",
   "metadata": {},
   "source": [
    "### We can deal with boolean queries too... let's get some data."
   ]
  },
  {
   "cell_type": "code",
   "execution_count": 11,
   "metadata": {},
   "outputs": [
    {
     "name": "stdout",
     "output_type": "stream",
     "text": [
      "{'president_of_the_united_states', 'united_states_presidential_election_2016', 'obama', 'barrack_hussein_obama', 'hillary_diane_rodham_clinton', 'modi_visit_us'}\n",
      "{'united_states_presidential_election_2016'}\n",
      "{'united_states_presidential_election_2016'}\n"
     ]
    }
   ],
   "source": [
    "obama = inv_ind.get_document_set_from_term(\"Obama\")\n",
    "trump = inv_ind.get_document_set_from_term(\"Trump\")\n",
    "bernie = inv_ind.get_document_set_from_term(\"Bernie Sanders\")\n",
    "print(obama)\n",
    "print(trump)\n",
    "print(bernie)"
   ]
  },
  {
   "cell_type": "markdown",
   "metadata": {},
   "source": [
    "### We have sets containing the infor for Obama, Trump and Sanders\n",
    "### Which documents discuss all 3?"
   ]
  },
  {
   "cell_type": "code",
   "execution_count": 12,
   "metadata": {},
   "outputs": [
    {
     "name": "stdout",
     "output_type": "stream",
     "text": [
      "{'united_states_presidential_election_2016'}\n"
     ]
    }
   ],
   "source": [
    "print(obama & trump & bernie)"
   ]
  },
  {
   "cell_type": "markdown",
   "metadata": {},
   "source": [
    "### Let's use a larger dataset, we will use the complete works \n",
    "### of Shakespeare next... First, load it in."
   ]
  },
  {
   "cell_type": "code",
   "execution_count": null,
   "metadata": {},
   "outputs": [],
   "source": [
    "documents = read_data(\"./shakespeare\")\n",
    "inv_ind = InvertedIndex()\n",
    "for d in documents:\n",
    "    print(d[0])"
   ]
  },
  {
   "cell_type": "markdown",
   "metadata": {},
   "source": [
    "### Next, add them to the Inverted Index...\n",
    "### Note some of these documents are 25,000 - 35,000 words..."
   ]
  },
  {
   "cell_type": "code",
   "execution_count": 14,
   "metadata": {},
   "outputs": [
    {
     "name": "stdout",
     "output_type": "stream",
     "text": [
      "Julius Caesar\n",
      "Othello\n",
      "A Midsummer Night's Dream\n",
      "Troilus and Cressida\n",
      "King Richard II\n",
      "King Henry IV, II\n",
      "Titus Andronicus\n",
      "Much Ado About Nothing\n",
      "Love's Labour's Lost\n",
      "The Two Gentlemen of Verona\n",
      "The Comedy of Errors\n",
      "Cymbeline\n",
      "All's Well that Ends Well\n",
      "Twelfth Night\n",
      "King Lear\n",
      "The Tempest\n",
      "Macbeth\n",
      "Venus and Adonis\n",
      "Timon of Athens\n",
      "King Henry VIII\n",
      "The Merchant of Venice\n",
      "A Lover's Complaint\n",
      "King Henry VI\n",
      "Measure for Measure\n",
      "Collection of Shakespeare Sonnets\n",
      "Antony and Cleopatra\n",
      "King John\n",
      "Coriolanus\n",
      "King Henry V\n",
      "The Merry Wives of Windsor\n",
      "Romeo and Juliet\n",
      "King Henry IV\n",
      "Hamlet\n",
      "King Richard III\n",
      "Pericles, Prince of Tyre\n",
      "The Taming of the Shrew\n",
      "The Winter's Tale\n",
      "As You Like It\n",
      "The Rape of Lucrece\n"
     ]
    }
   ],
   "source": [
    "for d in documents:\n",
    "    print(d[0])\n",
    "    inv_ind.add_document(d)"
   ]
  },
  {
   "cell_type": "markdown",
   "metadata": {},
   "source": [
    "### We can reproduce our boolean search gave in the lecture slides...\n",
    "\n",
    "### Also see how many terms we have..."
   ]
  },
  {
   "cell_type": "code",
   "execution_count": 15,
   "metadata": {},
   "outputs": [
    {
     "name": "stdout",
     "output_type": "stream",
     "text": [
      "19202\n",
      "{'Cymbeline', \"All's Well that Ends Well\", 'Measure for Measure', 'Titus Andronicus', 'King Henry VI', 'Antony and Cleopatra', 'The Merry Wives of Windsor', 'Hamlet', 'Macbeth', 'Julius Caesar', 'King Richard II', 'King Henry IV, II', \"Love's Labour's Lost\", 'As You Like It', 'King Henry V', 'Othello', 'King Richard III'}\n",
      "{'The Merchant of Venice', 'The Rape of Lucrece', 'Titus Andronicus', 'Antony and Cleopatra', 'Hamlet', 'Julius Caesar', 'Coriolanus', 'King Henry V'}\n",
      "{'Julius Caesar'}\n"
     ]
    }
   ],
   "source": [
    "print(inv_ind.get_total_terms())\n",
    "caes = inv_ind.get_document_set_from_term(\"Caesar\")\n",
    "brut = inv_ind.get_document_set_from_term(\"Brutus\")\n",
    "cap = inv_ind.get_document_set_from_term(\"Calpurnia\")\n",
    "print(caes)\n",
    "print(brut)\n",
    "print(cap)"
   ]
  },
  {
   "cell_type": "markdown",
   "metadata": {},
   "source": [
    "### Using simple set operations...\n",
    "### Which are the plays that have Caesar AND Brutus but *NOT* Calpurnia"
   ]
  },
  {
   "cell_type": "code",
   "execution_count": 16,
   "metadata": {},
   "outputs": [
    {
     "name": "stdout",
     "output_type": "stream",
     "text": [
      "{'King Henry V', 'Titus Andronicus', 'Antony and Cleopatra', 'Hamlet'}\n"
     ]
    }
   ],
   "source": [
    "print((caes & brut) - cap)\n"
   ]
  },
  {
   "cell_type": "markdown",
   "metadata": {},
   "source": [
    "### Let's generate our TFIDF data for future work and generate a plain term by document matrix for queries."
   ]
  },
  {
   "cell_type": "code",
   "execution_count": null,
   "metadata": {},
   "outputs": [],
   "source": [
    "inv_ind.calcTFIDF()\n",
    "inv_ind.generate_term_by_doc_matrix(tfidf = True)"
   ]
  },
  {
   "cell_type": "markdown",
   "metadata": {},
   "source": [
    "### Now, let's do a query about a Shakespeare play..."
   ]
  },
  {
   "cell_type": "code",
   "execution_count": 21,
   "metadata": {},
   "outputs": [
    {
     "name": "stdout",
     "output_type": "stream",
     "text": [
      "('Macbeth', 0.08559316237351267)\n",
      "('King Henry IV', 0.005789261723483593)\n",
      "('King Henry VI', 0.003660436049077642)\n",
      "('King Henry IV, II', 0.003121709934588564)\n",
      "('King Henry V', 0.0019193400093131976)\n",
      "('King Richard III', 0.0013431147327243318)\n",
      "('King John', 0.0007488196759316429)\n",
      "('King Richard II', 0.0006742482860831404)\n",
      "('King Henry VIII', 0.0005161221482695165)\n",
      "('The Comedy of Errors', 0.00046244490997942336)\n",
      "('King Lear', 0.00035091625086910766)\n",
      "(\"All's Well that Ends Well\", 0.00020963725222313367)\n",
      "('Hamlet', 0.00015544308715244624)\n",
      "('The Rape of Lucrece', 0.00013990120010572916)\n",
      "(\"The Winter's Tale\", 0.00010914122054322648)\n",
      "('Pericles, Prince of Tyre', 8.315765037798248e-05)\n",
      "('The Tempest', 7.328272381188834e-05)\n",
      "('Collection of Shakespeare Sonnets', 5.777755663378052e-05)\n",
      "('Cymbeline', 5.30782444560166e-05)\n",
      "(\"Love's Labour's Lost\", 5.26090429516884e-05)\n",
      "('Venus and Adonis', 4.704718099129693e-05)\n",
      "('Antony and Cleopatra', 2.2354760703677766e-05)\n",
      "('Titus Andronicus', 1.559695452052161e-05)\n",
      "('Troilus and Cressida', 1.3800488069001667e-05)\n",
      "(\"A Midsummer Night's Dream\", 1.195048241355629e-05)\n",
      "('The Merchant of Venice', 7.713117049332909e-06)\n",
      "('Measure for Measure', 7.71149134295813e-06)\n",
      "('Julius Caesar', 5.7375297442262815e-06)\n",
      "('The Two Gentlemen of Verona', 4.040011942047533e-06)\n",
      "('Twelfth Night', 3.4491882974370395e-06)\n",
      "('Romeo and Juliet', 2.8889454241493743e-06)\n",
      "('The Merry Wives of Windsor', 2.855863666643012e-06)\n",
      "('Coriolanus', 2.182642497681714e-06)\n",
      "('As You Like It', 1.1698299651900322e-06)\n",
      "('The Taming of the Shrew', 1.1200017530047345e-06)\n",
      "('Much Ado About Nothing', 1.095426139205082e-06)\n",
      "('Othello', 6.841975947155028e-07)\n",
      "(\"A Lover's Complaint\", 0.0)\n",
      "('Timon of Athens', 0.0)\n"
     ]
    }
   ],
   "source": [
    "results = inv_ind.search(\"scotland kings and thanes\", tfidf = True)\n",
    "for r in results:\n",
    "    print (r)"
   ]
  },
  {
   "cell_type": "markdown",
   "metadata": {},
   "source": [
    "### Is there anything weird going on here?"
   ]
  },
  {
   "cell_type": "code",
   "execution_count": 22,
   "metadata": {},
   "outputs": [
    {
     "name": "stdout",
     "output_type": "stream",
     "text": [
      "{'Measure for Measure', 'King Henry VIII', \"A Midsummer Night's Dream\", 'The Merchant of Venice', 'Collection of Shakespeare Sonnets', 'The Taming of the Shrew', 'Titus Andronicus', 'King Henry VI', 'The Rape of Lucrece', 'Macbeth', 'King Richard II', 'Much Ado About Nothing', 'Twelfth Night', 'King John', \"Love's Labour's Lost\", 'The Two Gentlemen of Verona', 'As You Like It', 'Pericles, Prince of Tyre', 'Cymbeline', 'Venus and Adonis', 'Antony and Cleopatra', 'The Merry Wives of Windsor', 'Romeo and Juliet', \"The Winter's Tale\", 'Othello', 'King Henry IV', 'The Tempest', \"All's Well that Ends Well\", 'King Lear', 'Hamlet', 'Julius Caesar', 'Coriolanus', 'King Henry IV, II', 'Troilus and Cressida', 'King Henry V', 'King Richard III'}\n"
     ]
    }
   ],
   "source": [
    "king_docs = inv_ind.get_document_set_from_term(\"King\")\n",
    "print(king_docs)"
   ]
  },
  {
   "cell_type": "code",
   "execution_count": 23,
   "metadata": {},
   "outputs": [
    {
     "name": "stdout",
     "output_type": "stream",
     "text": [
      "[['Julius Caesar', 4, 0.3201708306941454, None], ['Othello', 1, 0.08004270767353636, None], [\"A Midsummer Night's Dream\", 6, 0.48025624604121814, None], ['Troilus and Cressida', 11, 0.8804697844088999, None], ['King Richard II', 289, 23.132342517652006, None], ['King Henry IV, II', 141, 11.286021781968627, None], ['Titus Andronicus', 13, 1.0405551997559725, None], ['Much Ado About Nothing', 1, 0.08004270767353636, None], [\"Love's Labour's Lost\", 40, 3.2017083069414545, None], ['The Two Gentlemen of Verona', 3, 0.24012812302060907, None], ['Cymbeline', 45, 3.601921845309136, None], [\"All's Well that Ends Well\", 136, 10.885808243600945, None], ['Twelfth Night', 3, 0.24012812302060907, None], ['King Lear', 310, 24.813239378796272, None], ['The Tempest', 42, 3.361793722288527, None], ['Macbeth', 47, 3.7620072606562087, None], ['Venus and Adonis', 3, 0.24012812302060907, None], ['King Henry VIII', 254, 20.330847749078234, None], ['The Merchant of Venice', 5, 0.4002135383676818, None], ['King Henry VI', 413, 33.05763826917052, None], ['Measure for Measure', 6, 0.48025624604121814, None], ['Collection of Shakespeare Sonnets', 4, 0.3201708306941454, None], ['Antony and Cleopatra', 22, 1.7609395688177998, None], ['King John', 265, 21.211317533487133, None], ['Coriolanus', 2, 0.1600854153470727, None], ['King Henry V', 339, 27.134477901328825, None], ['The Merry Wives of Windsor', 2, 0.1600854153470727, None], ['Romeo and Juliet', 3, 0.24012812302060907, None], ['King Henry IV', 138, 11.045893658948017, None], ['Hamlet', 209, 16.7289259037691, None], ['King Richard III', 311, 24.893282086469807, None], ['Pericles, Prince of Tyre', 56, 4.482391629718036, None], ['The Taming of the Shrew', 1, 0.08004270767353636, None], [\"The Winter's Tale\", 68, 5.442904121800472, None], ['As You Like It', 1, 0.08004270767353636, None], ['The Rape of Lucrece', 17, 1.360726030450118, None]]\n"
     ]
    }
   ],
   "source": [
    "king_pl = inv_ind.get_postings_list_from_term(\"King\")\n",
    "print(king_pl)"
   ]
  },
  {
   "cell_type": "code",
   "execution_count": 24,
   "metadata": {},
   "outputs": [
    {
     "name": "stdout",
     "output_type": "stream",
     "text": [
      "[['King Henry IV, II', 3, 5.152954491222999, None], ['The Comedy of Errors', 1, 1.717651497074333, None], ['Macbeth', 15, 25.764772456114997, None], ['King Henry VI', 4, 6.870605988297332, None], ['King Henry V', 1, 1.717651497074333, None], ['King Henry IV', 6, 10.305908982445999, None], ['King Richard III', 1, 1.717651497074333, None]]\n"
     ]
    }
   ],
   "source": [
    "scotland_pl = inv_ind.get_postings_list_from_term(\"Scotland\")\n",
    "print(scotland_pl)"
   ]
  },
  {
   "cell_type": "code",
   "execution_count": 25,
   "metadata": {},
   "outputs": [
    {
     "name": "stdout",
     "output_type": "stream",
     "text": [
      "[['Macbeth', 31, 113.57041103001903, None]]\n"
     ]
    }
   ],
   "source": [
    "thane_pl = inv_ind.get_postings_list_from_term(\"Thane\")\n",
    "print(thane_pl)"
   ]
  },
  {
   "cell_type": "code",
   "execution_count": 7,
   "metadata": {},
   "outputs": [
    {
     "name": "stdout",
     "output_type": "stream",
     "text": [
      "[]\n"
     ]
    }
   ],
   "source": []
  }
 ],
 "metadata": {
  "kernelspec": {
   "display_name": "Python 3.8.10 64-bit",
   "language": "python",
   "name": "python3"
  },
  "language_info": {
   "codemirror_mode": {
    "name": "ipython",
    "version": 3
   },
   "file_extension": ".py",
   "mimetype": "text/x-python",
   "name": "python",
   "nbconvert_exporter": "python",
   "pygments_lexer": "ipython3",
   "version": "3.8.10"
  },
  "vscode": {
   "interpreter": {
    "hash": "916dbcbb3f70747c44a77c7bcd40155683ae19c65e1c03b4aa3499c5328201f1"
   }
  }
 },
 "nbformat": 4,
 "nbformat_minor": 4
}
